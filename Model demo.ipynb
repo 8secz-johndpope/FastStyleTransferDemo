{
 "cells": [
  {
   "cell_type": "code",
   "execution_count": 97,
   "metadata": {},
   "outputs": [
    {
     "name": "stdout",
     "output_type": "stream",
     "text": [
      "Requirement already satisfied: coremltools in /Users/arthurtonelli/.virtualenvs/coreml_fst/lib/python3.6/site-packages (3.3)\n",
      "Requirement already satisfied: six>=1.10.0 in /Users/arthurtonelli/.virtualenvs/coreml_fst/lib/python3.6/site-packages (from coremltools) (1.14.0)\n",
      "Requirement already satisfied: numpy>=1.14.5 in /Users/arthurtonelli/.virtualenvs/coreml_fst/lib/python3.6/site-packages (from coremltools) (1.18.4)\n",
      "Requirement already satisfied: protobuf>=3.1.0 in /Users/arthurtonelli/.virtualenvs/coreml_fst/lib/python3.6/site-packages (from coremltools) (3.12.1)\n",
      "Requirement already satisfied: setuptools in /Users/arthurtonelli/.virtualenvs/coreml_fst/lib/python3.6/site-packages (from protobuf>=3.1.0->coremltools) (46.4.0)\n",
      "Collecting matplotlib\n",
      "  Downloading matplotlib-3.2.1-cp36-cp36m-macosx_10_9_x86_64.whl (12.4 MB)\n",
      "\u001b[K     |████████████████████████████████| 12.4 MB 3.1 MB/s eta 0:00:01\n",
      "\u001b[?25hRequirement already satisfied: python-dateutil>=2.1 in /Users/arthurtonelli/.virtualenvs/coreml_fst/lib/python3.6/site-packages (from matplotlib) (2.8.1)\n",
      "Collecting kiwisolver>=1.0.1\n",
      "  Downloading kiwisolver-1.2.0-cp36-cp36m-macosx_10_9_x86_64.whl (60 kB)\n",
      "\u001b[K     |████████████████████████████████| 60 kB 6.3 MB/s eta 0:00:011\n",
      "\u001b[?25hCollecting cycler>=0.10\n",
      "  Using cached cycler-0.10.0-py2.py3-none-any.whl (6.5 kB)\n",
      "Requirement already satisfied: numpy>=1.11 in /Users/arthurtonelli/.virtualenvs/coreml_fst/lib/python3.6/site-packages (from matplotlib) (1.18.4)\n",
      "Requirement already satisfied: pyparsing!=2.0.4,!=2.1.2,!=2.1.6,>=2.0.1 in /Users/arthurtonelli/.virtualenvs/coreml_fst/lib/python3.6/site-packages (from matplotlib) (2.4.7)\n",
      "Requirement already satisfied: six>=1.5 in /Users/arthurtonelli/.virtualenvs/coreml_fst/lib/python3.6/site-packages (from python-dateutil>=2.1->matplotlib) (1.14.0)\n",
      "Installing collected packages: kiwisolver, cycler, matplotlib\n",
      "Successfully installed cycler-0.10.0 kiwisolver-1.2.0 matplotlib-3.2.1\n"
     ]
    }
   ],
   "source": [
    "!pip install coremltools\n",
    "!pip install matplotlib"
   ]
  },
  {
   "cell_type": "code",
   "execution_count": 98,
   "metadata": {},
   "outputs": [],
   "source": [
    "import PIL\n",
    "from PIL import Image\n",
    "%matplotlib inline"
   ]
  },
  {
   "cell_type": "code",
   "execution_count": 2,
   "metadata": {},
   "outputs": [
    {
     "name": "stderr",
     "output_type": "stream",
     "text": [
      "WARNING:root:TensorFlow version 2.2.0 detected. Last version known to be fully compatible is 1.14.0 .\n"
     ]
    }
   ],
   "source": [
    "import coremltools"
   ]
  },
  {
   "cell_type": "code",
   "execution_count": 3,
   "metadata": {},
   "outputs": [
    {
     "name": "stdout",
     "output_type": "stream",
     "text": [
      "/Users/arthurtonelli/.virtualenvs/coreml_fst\r\n"
     ]
    }
   ],
   "source": [
    "!echo $VIRTUAL_ENV"
   ]
  },
  {
   "cell_type": "code",
   "execution_count": 4,
   "metadata": {},
   "outputs": [
    {
     "name": "stdout",
     "output_type": "stream",
     "text": [
      "\u001b[31m/Users/arthurtonelli/.virtualenvs/coreml_fst/bin/python\u001b[m\u001b[m\r\n"
     ]
    }
   ],
   "source": [
    "!ls $(which python)"
   ]
  },
  {
   "cell_type": "code",
   "execution_count": 5,
   "metadata": {},
   "outputs": [],
   "source": [
    "rose = Image.open('/Users/arthurtonelli/Downloads/rose.jpg')"
   ]
  },
  {
   "cell_type": "code",
   "execution_count": 6,
   "metadata": {},
   "outputs": [],
   "source": [
    "rose_sm = rose.resize((175,380))"
   ]
  },
  {
   "cell_type": "code",
   "execution_count": 111,
   "metadata": {},
   "outputs": [],
   "source": [
    "rose_bg = rose.resize((350,760))"
   ]
  },
  {
   "cell_type": "code",
   "execution_count": 7,
   "metadata": {},
   "outputs": [],
   "source": [
    "model = coremltools.models.MLModel('/Users/arthurtonelli/Downloads/SketchResCompactsmRGB.mlmodel')"
   ]
  },
  {
   "cell_type": "code",
   "execution_count": 8,
   "metadata": {},
   "outputs": [
    {
     "ename": "RuntimeError",
     "evalue": "{\n    NSLocalizedDescription = \"Failed to convert output transformnet/StatefulPartitionedCall/StatefulPartitionedCall/tf_op_layer_mul_2/PartitionedCall/mul_2 to image\";\n    NSUnderlyingError = \"Error Domain=com.apple.CoreML Code=0 \\\"Invalid array shape (\\n    380,\\n    176,\\n    3\\n) for converting to gray image\\\" UserInfo={NSLocalizedDescription=Invalid array shape (\\n    380,\\n    176,\\n    3\\n) for converting to gray image}\";\n}",
     "output_type": "error",
     "traceback": [
      "\u001b[0;31m---------------------------------------------------------------------------\u001b[0m",
      "\u001b[0;31mRuntimeError\u001b[0m                              Traceback (most recent call last)",
      "\u001b[0;32m<ipython-input-8-f37a63e6521b>\u001b[0m in \u001b[0;36m<module>\u001b[0;34m\u001b[0m\n\u001b[0;32m----> 1\u001b[0;31m \u001b[0mres\u001b[0m \u001b[0;34m=\u001b[0m \u001b[0mmodel\u001b[0m\u001b[0;34m.\u001b[0m\u001b[0mpredict\u001b[0m\u001b[0;34m(\u001b[0m\u001b[0;34m{\u001b[0m\u001b[0;34m'input_5'\u001b[0m\u001b[0;34m:\u001b[0m \u001b[0mrose_sm\u001b[0m\u001b[0;34m}\u001b[0m\u001b[0;34m)\u001b[0m\u001b[0;34m\u001b[0m\u001b[0m\n\u001b[0m",
      "\u001b[0;32m~/.virtualenvs/coreml_fst/lib/python3.6/site-packages/coremltools/models/model.py\u001b[0m in \u001b[0;36mpredict\u001b[0;34m(self, data, useCPUOnly, **kwargs)\u001b[0m\n\u001b[1;32m    332\u001b[0m \u001b[0;34m\u001b[0m\u001b[0m\n\u001b[1;32m    333\u001b[0m         \u001b[0;32mif\u001b[0m \u001b[0mself\u001b[0m\u001b[0;34m.\u001b[0m\u001b[0m__proxy__\u001b[0m\u001b[0;34m:\u001b[0m\u001b[0;34m\u001b[0m\u001b[0m\n\u001b[0;32m--> 334\u001b[0;31m             \u001b[0;32mreturn\u001b[0m \u001b[0mself\u001b[0m\u001b[0;34m.\u001b[0m\u001b[0m__proxy__\u001b[0m\u001b[0;34m.\u001b[0m\u001b[0mpredict\u001b[0m\u001b[0;34m(\u001b[0m\u001b[0mdata\u001b[0m\u001b[0;34m,\u001b[0m \u001b[0museCPUOnly\u001b[0m\u001b[0;34m)\u001b[0m\u001b[0;34m\u001b[0m\u001b[0m\n\u001b[0m\u001b[1;32m    335\u001b[0m         \u001b[0;32melse\u001b[0m\u001b[0;34m:\u001b[0m\u001b[0;34m\u001b[0m\u001b[0m\n\u001b[1;32m    336\u001b[0m             \u001b[0;32mif\u001b[0m \u001b[0m_macos_version\u001b[0m\u001b[0;34m(\u001b[0m\u001b[0;34m)\u001b[0m \u001b[0;34m<\u001b[0m \u001b[0;34m(\u001b[0m\u001b[0;36m10\u001b[0m\u001b[0;34m,\u001b[0m \u001b[0;36m13\u001b[0m\u001b[0;34m)\u001b[0m\u001b[0;34m:\u001b[0m\u001b[0;34m\u001b[0m\u001b[0m\n",
      "\u001b[0;31mRuntimeError\u001b[0m: {\n    NSLocalizedDescription = \"Failed to convert output transformnet/StatefulPartitionedCall/StatefulPartitionedCall/tf_op_layer_mul_2/PartitionedCall/mul_2 to image\";\n    NSUnderlyingError = \"Error Domain=com.apple.CoreML Code=0 \\\"Invalid array shape (\\n    380,\\n    176,\\n    3\\n) for converting to gray image\\\" UserInfo={NSLocalizedDescription=Invalid array shape (\\n    380,\\n    176,\\n    3\\n) for converting to gray image}\";\n}"
     ]
    }
   ],
   "source": [
    "res = model.predict({'input_5': rose_sm})"
   ]
  },
  {
   "cell_type": "code",
   "execution_count": 56,
   "metadata": {},
   "outputs": [],
   "source": [
    "# builder = None\n",
    "model_sm = coremltools.models.MLModel('/Users/arthurtonelli/Downloads/SketchResCompactsm.mlmodel')"
   ]
  },
  {
   "cell_type": "code",
   "execution_count": 57,
   "metadata": {},
   "outputs": [],
   "source": [
    "res = model_sm.predict({'input_5': rose_sm})"
   ]
  },
  {
   "cell_type": "code",
   "execution_count": 58,
   "metadata": {},
   "outputs": [
    {
     "data": {
      "text/plain": [
       "(1, 380, 176, 3)"
      ]
     },
     "execution_count": 58,
     "metadata": {},
     "output_type": "execute_result"
    }
   ],
   "source": [
    "res['transformnet/StatefulPartitionedCall/StatefulPartitionedCall/tf_op_layer_mul_2/PartitionedCall/mul_2'].shape"
   ]
  },
  {
   "cell_type": "code",
   "execution_count": 18,
   "metadata": {},
   "outputs": [],
   "source": [
    "model_id = coremltools.models.MLModel('/Users/arthurtonelli/Downloads/SketchResCompactId.mlmodel')"
   ]
  },
  {
   "cell_type": "code",
   "execution_count": 19,
   "metadata": {},
   "outputs": [],
   "source": [
    "res = model_id.predict({'input_5': rose_sm})"
   ]
  },
  {
   "cell_type": "code",
   "execution_count": 20,
   "metadata": {},
   "outputs": [
    {
     "data": {
      "text/plain": [
       "(1, 380, 176, 3)"
      ]
     },
     "execution_count": 20,
     "metadata": {},
     "output_type": "execute_result"
    }
   ],
   "source": [
    "res['Identity'].shape"
   ]
  },
  {
   "cell_type": "code",
   "execution_count": 59,
   "metadata": {},
   "outputs": [],
   "source": [
    "spec_sm = model_sm.get_spec()"
   ]
  },
  {
   "cell_type": "code",
   "execution_count": 60,
   "metadata": {},
   "outputs": [
    {
     "data": {
      "text/plain": [
       "input {\n",
       "  name: \"input_5\"\n",
       "  type {\n",
       "    imageType {\n",
       "      width: 175\n",
       "      height: 380\n",
       "      colorSpace: RGB\n",
       "    }\n",
       "  }\n",
       "}\n",
       "output {\n",
       "  name: \"transformnet/StatefulPartitionedCall/StatefulPartitionedCall/tf_op_layer_mul_2/PartitionedCall/mul_2\"\n",
       "  type {\n",
       "    multiArrayType {\n",
       "      dataType: FLOAT32\n",
       "    }\n",
       "  }\n",
       "}\n",
       "metadata {\n",
       "  userDefined {\n",
       "    key: \"coremltoolsVersion\"\n",
       "    value: \"3.3\"\n",
       "  }\n",
       "}"
      ]
     },
     "execution_count": 60,
     "metadata": {},
     "output_type": "execute_result"
    }
   ],
   "source": [
    "spec_sm.description"
   ]
  },
  {
   "cell_type": "code",
   "execution_count": 61,
   "metadata": {},
   "outputs": [],
   "source": [
    "builder=coremltools.models.neural_network.NeuralNetworkBuilder(spec=spec_sm)"
   ]
  },
  {
   "cell_type": "code",
   "execution_count": 52,
   "metadata": {},
   "outputs": [],
   "source": [
    "# builder.add_reshape?"
   ]
  },
  {
   "cell_type": "code",
   "execution_count": 62,
   "metadata": {},
   "outputs": [
    {
     "data": {
      "text/plain": [
       "name: \"reshape_arthur\"\n",
       "input: \"transformnet/StatefulPartitionedCall/StatefulPartitionedCall/tf_op_layer_mul_2/PartitionedCall/mul_2\"\n",
       "output: \"reshape_arthur\"\n",
       "transpose {\n",
       "  axes: 0\n",
       "  axes: 3\n",
       "  axes: 1\n",
       "  axes: 2\n",
       "}"
      ]
     },
     "execution_count": 62,
     "metadata": {},
     "output_type": "execute_result"
    }
   ],
   "source": [
    "builder.add_transpose(name=\"reshape_arthur\", \n",
    "                    axes=(0,3,1,2), \n",
    "#                     mode=1, \n",
    "                    input_name='transformnet/StatefulPartitionedCall/StatefulPartitionedCall/tf_op_layer_mul_2/PartitionedCall/mul_2',\n",
    "                    output_name='reshape_arthur')"
   ]
  },
  {
   "cell_type": "code",
   "execution_count": 76,
   "metadata": {
    "scrolled": true
   },
   "outputs": [
    {
     "name": "stdout",
     "output_type": "stream",
     "text": [
      "[Id: 41], Name: reshape_arthur (Type: transpose)\n",
      "          Updatable: False\n",
      "          Input blobs: ['transformnet/StatefulPartitionedCall/StatefulPartitionedCall/tf_op_layer_mul_2/PartitionedCall/mul_2']\n",
      "          Output blobs: ['reshape_arthur']\n",
      "          Parameters: \n",
      "              axes = [0, 3, 1, 2]\n",
      "[Id: 40], Name: transformnet/StatefulPartitionedCall/StatefulPartitionedCall/tf_op_layer_mul_2/PartitionedCall/mul_2 (Type: transpose)\n",
      "          Updatable: False\n",
      "          Input blobs: ['preIdentity_transformnet/StatefulPartitionedCall/StatefulPartitionedCall/tf_op_layer_mul_2/PartitionedCall/mul_2']\n",
      "          Output blobs: ['transformnet/StatefulPartitionedCall/StatefulPartitionedCall/tf_op_layer_mul_2/PartitionedCall/mul_2']\n",
      "          Parameters: \n",
      "              axes = [0, 2, 3, 1]\n",
      "[Id: 39], Name: preIdentity_transformnet/StatefulPartitionedCall/StatefulPartitionedCall/tf_op_layer_mul_2/PartitionedCall/mul_2 (Type: multiplyBroadcastable)\n",
      "          Updatable: False\n",
      "          Input blobs: ['transformnet/StatefulPartitionedCall/StatefulPartitionedCall/tf_op_layer_add_2/PartitionedCall/add_2', 'transformnet/StatefulPartitionedCall/StatefulPartitionedCall/tf_op_layer_mul_2/PartitionedCall/mul_2/y']\n",
      "          Output blobs: ['preIdentity_transformnet/StatefulPartitionedCall/StatefulPartitionedCall/tf_op_layer_mul_2/PartitionedCall/mul_2']\n"
     ]
    }
   ],
   "source": [
    "builder.inspect_layers(3, verbose=True)"
   ]
  },
  {
   "cell_type": "code",
   "execution_count": 80,
   "metadata": {},
   "outputs": [
    {
     "data": {
      "text/plain": [
       "[name: \"transformnet/StatefulPartitionedCall/StatefulPartitionedCall/tf_op_layer_mul_2/PartitionedCall/mul_2\"\n",
       "type {\n",
       "  multiArrayType {\n",
       "    dataType: FLOAT32\n",
       "  }\n",
       "}\n",
       "]"
      ]
     },
     "execution_count": 80,
     "metadata": {},
     "output_type": "execute_result"
    }
   ],
   "source": [
    "builder.spec.description.output"
   ]
  },
  {
   "cell_type": "code",
   "execution_count": 82,
   "metadata": {},
   "outputs": [],
   "source": [
    "builder.set_output(output_names=['reshape_arthur'], \n",
    "                   output_dims=[(1,3,380, 176)])"
   ]
  },
  {
   "cell_type": "code",
   "execution_count": 83,
   "metadata": {},
   "outputs": [],
   "source": [
    "coremltools.utils.save_spec(builder.spec, \"/Users/arthurtonelli/Downloads/SketchResCompactReshape2.mlmodel\")"
   ]
  },
  {
   "cell_type": "code",
   "execution_count": 84,
   "metadata": {},
   "outputs": [],
   "source": [
    "model_reshape = coremltools.models.MLModel('/Users/arthurtonelli/Downloads/SketchResCompactReshape2.mlmodel')"
   ]
  },
  {
   "cell_type": "code",
   "execution_count": 85,
   "metadata": {},
   "outputs": [],
   "source": [
    "res_reshape = model_reshape.predict({'input_5': rose_sm})"
   ]
  },
  {
   "cell_type": "code",
   "execution_count": 87,
   "metadata": {},
   "outputs": [
    {
     "data": {
      "text/plain": [
       "(1, 3, 380, 176)"
      ]
     },
     "execution_count": 87,
     "metadata": {},
     "output_type": "execute_result"
    }
   ],
   "source": [
    "res_reshape['reshape_arthur'].shape"
   ]
  },
  {
   "cell_type": "code",
   "execution_count": 78,
   "metadata": {},
   "outputs": [
    {
     "data": {
      "text/plain": [
       "['transformnet/StatefulPartitionedCall/StatefulPartitionedCall/tf_op_layer_add_2/PartitionedCall/add_2/y',\n",
       " 'transformnet/StatefulPartitionedCall/StatefulPartitionedCall/tf_op_layer_mul_2/PartitionedCall/mul_2/y',\n",
       " 'transformnet/StatefulPartitionedCall/StatefulPartitionedCall/conv_layer_8/StatefulPartitionedCall/conv_1/Conv2D',\n",
       " 'transformnet/StatefulPartitionedCall/StatefulPartitionedCall/conv_layer_8/StatefulPartitionedCall/batch_normalization_24/FusedBatchNormV3/Add_batch_norm',\n",
       " 'transformnet/StatefulPartitionedCall/StatefulPartitionedCall/conv_layer_8/StatefulPartitionedCall/activation_12/Relu',\n",
       " 'transformnet/StatefulPartitionedCall/StatefulPartitionedCall/conv_layer_9/StatefulPartitionedCall/conv_2/Conv2D',\n",
       " 'transformnet/StatefulPartitionedCall/StatefulPartitionedCall/conv_layer_9/StatefulPartitionedCall/batch_normalization_25/FusedBatchNormV3/Add_batch_norm',\n",
       " 'transformnet/StatefulPartitionedCall/StatefulPartitionedCall/conv_layer_9/StatefulPartitionedCall/activation_13/Relu',\n",
       " 'transformnet/StatefulPartitionedCall/StatefulPartitionedCall/conv_layer_10/StatefulPartitionedCall/conv_3/Conv2D',\n",
       " 'transformnet/StatefulPartitionedCall/StatefulPartitionedCall/conv_layer_10/StatefulPartitionedCall/batch_normalization_26/FusedBatchNormV3/Add_batch_norm',\n",
       " 'transformnet/StatefulPartitionedCall/StatefulPartitionedCall/conv_layer_10/StatefulPartitionedCall/activation_14/Relu',\n",
       " 'transformnet/StatefulPartitionedCall/StatefulPartitionedCall/res_block/StatefulPartitionedCall/conv_layer_11/res_1_conv_1/Conv2D',\n",
       " 'transformnet/StatefulPartitionedCall/StatefulPartitionedCall/res_block/StatefulPartitionedCall/conv_layer_11/batch_normalization_27/FusedBatchNormV3/Add_batch_norm',\n",
       " 'transformnet/StatefulPartitionedCall/StatefulPartitionedCall/res_block/StatefulPartitionedCall/conv_layer_11/activation_15/Relu',\n",
       " 'transformnet/StatefulPartitionedCall/StatefulPartitionedCall/res_block/StatefulPartitionedCall/conv_layer_12/res_1_conv_2/Conv2D',\n",
       " 'transformnet/StatefulPartitionedCall/StatefulPartitionedCall/res_block/StatefulPartitionedCall/conv_layer_12/batch_normalization_28/FusedBatchNormV3/Add_batch_norm',\n",
       " 'transformnet/StatefulPartitionedCall/StatefulPartitionedCall/res_block/StatefulPartitionedCall/res_1_add/add',\n",
       " 'transformnet/StatefulPartitionedCall/StatefulPartitionedCall/res_block_1/StatefulPartitionedCall/conv_layer_13/res_2_conv_1/Conv2D',\n",
       " 'transformnet/StatefulPartitionedCall/StatefulPartitionedCall/res_block_1/StatefulPartitionedCall/conv_layer_13/batch_normalization_29/FusedBatchNormV3/Add_batch_norm',\n",
       " 'transformnet/StatefulPartitionedCall/StatefulPartitionedCall/res_block_1/StatefulPartitionedCall/conv_layer_13/activation_16/Relu',\n",
       " 'transformnet/StatefulPartitionedCall/StatefulPartitionedCall/res_block_1/StatefulPartitionedCall/conv_layer_14/res_2_conv_2/Conv2D',\n",
       " 'transformnet/StatefulPartitionedCall/StatefulPartitionedCall/res_block_1/StatefulPartitionedCall/conv_layer_14/batch_normalization_30/FusedBatchNormV3/Add_batch_norm',\n",
       " 'transformnet/StatefulPartitionedCall/StatefulPartitionedCall/res_block_1/StatefulPartitionedCall/res_2_add/add',\n",
       " 'transformnet/StatefulPartitionedCall/StatefulPartitionedCall/res_block_2/StatefulPartitionedCall/conv_layer_15/res_3_conv_1/Conv2D',\n",
       " 'transformnet/StatefulPartitionedCall/StatefulPartitionedCall/res_block_2/StatefulPartitionedCall/conv_layer_15/batch_normalization_31/FusedBatchNormV3/Add_batch_norm',\n",
       " 'transformnet/StatefulPartitionedCall/StatefulPartitionedCall/res_block_2/StatefulPartitionedCall/conv_layer_15/activation_17/Relu',\n",
       " 'transformnet/StatefulPartitionedCall/StatefulPartitionedCall/res_block_2/StatefulPartitionedCall/conv_layer_16/res_3_conv_2/Conv2D',\n",
       " 'transformnet/StatefulPartitionedCall/StatefulPartitionedCall/res_block_2/StatefulPartitionedCall/conv_layer_16/batch_normalization_32/FusedBatchNormV3/Add_batch_norm',\n",
       " 'transformnet/StatefulPartitionedCall/StatefulPartitionedCall/res_block_2/StatefulPartitionedCall/res_3_add/add',\n",
       " 'transformnet/StatefulPartitionedCall/StatefulPartitionedCall/conv_t_layer_4/StatefulPartitionedCall/conv_t_1/conv2d_transpose',\n",
       " 'transformnet/StatefulPartitionedCall/StatefulPartitionedCall/conv_t_layer_4/StatefulPartitionedCall/batch_normalization_33/FusedBatchNormV3/Add_batch_norm',\n",
       " 'transformnet/StatefulPartitionedCall/StatefulPartitionedCall/conv_t_layer_4/StatefulPartitionedCall/activation_18/Relu',\n",
       " 'transformnet/StatefulPartitionedCall/StatefulPartitionedCall/conv_t_layer_5/StatefulPartitionedCall/conv_t_2/conv2d_transpose',\n",
       " 'transformnet/StatefulPartitionedCall/StatefulPartitionedCall/conv_t_layer_5/StatefulPartitionedCall/batch_normalization_34/FusedBatchNormV3/Add_batch_norm',\n",
       " 'transformnet/StatefulPartitionedCall/StatefulPartitionedCall/conv_t_layer_5/StatefulPartitionedCall/activation_19/Relu',\n",
       " 'transformnet/StatefulPartitionedCall/StatefulPartitionedCall/conv_layer_17/StatefulPartitionedCall/conv_4/Conv2D',\n",
       " 'transformnet/StatefulPartitionedCall/StatefulPartitionedCall/conv_layer_17/StatefulPartitionedCall/batch_normalization_35/FusedBatchNormV3/Add_batch_norm',\n",
       " 'transformnet/StatefulPartitionedCall/StatefulPartitionedCall/activation_20/PartitionedCall/Tanh',\n",
       " 'transformnet/StatefulPartitionedCall/StatefulPartitionedCall/tf_op_layer_add_2/PartitionedCall/add_2',\n",
       " 'preIdentity_transformnet/StatefulPartitionedCall/StatefulPartitionedCall/tf_op_layer_mul_2/PartitionedCall/mul_2',\n",
       " 'transformnet/StatefulPartitionedCall/StatefulPartitionedCall/tf_op_layer_mul_2/PartitionedCall/mul_2',\n",
       " 'reshape_arthur']"
      ]
     },
     "execution_count": 78,
     "metadata": {},
     "output_type": "execute_result"
    }
   ],
   "source": [
    "builder.layers"
   ]
  },
  {
   "cell_type": "code",
   "execution_count": 79,
   "metadata": {},
   "outputs": [
    {
     "data": {
      "text/plain": [
       "(1, 380, 176, 3)"
      ]
     },
     "execution_count": 79,
     "metadata": {},
     "output_type": "execute_result"
    }
   ],
   "source": [
    "res_reshape['transformnet/StatefulPartitionedCall/StatefulPartitionedCall/tf_op_layer_mul_2/PartitionedCall/mul_2'].shape"
   ]
  },
  {
   "cell_type": "code",
   "execution_count": 89,
   "metadata": {},
   "outputs": [],
   "source": [
    "output = builder.spec.description.output[0]\n",
    "\n",
    "import coremltools.proto.FeatureTypes_pb2 as ft\n",
    "output.type.imageType.colorSpace = ft.ImageFeatureType.RGB\n",
    "output.type.imageType.height = 380\n",
    "output.type.imageType.width = 176\n",
    "\n",
    "coremltools.utils.save_spec(builder.spec, \"/tmp/SketchResCompRSRGB.mlmodel\")"
   ]
  },
  {
   "cell_type": "code",
   "execution_count": 91,
   "metadata": {},
   "outputs": [],
   "source": [
    "model_reshape_rgb = coremltools.models.MLModel('/tmp/SketchResCompRSRGB.mlmodel')"
   ]
  },
  {
   "cell_type": "code",
   "execution_count": 92,
   "metadata": {},
   "outputs": [],
   "source": [
    "res_reshape_rgb = model_reshape_rgb.predict({'input_5': rose_sm})"
   ]
  },
  {
   "cell_type": "code",
   "execution_count": 93,
   "metadata": {},
   "outputs": [
    {
     "data": {
      "text/plain": [
       "{'reshape_arthur': <PIL.Image.Image image mode=RGBA size=176x380 at 0x15B998358>}"
      ]
     },
     "execution_count": 93,
     "metadata": {},
     "output_type": "execute_result"
    }
   ],
   "source": [
    "res_reshape_rgb"
   ]
  },
  {
   "cell_type": "code",
   "execution_count": 94,
   "metadata": {},
   "outputs": [],
   "source": [
    "img = res_reshape_rgb['reshape_arthur']"
   ]
  },
  {
   "cell_type": "code",
   "execution_count": 99,
   "metadata": {},
   "outputs": [],
   "source": [
    "img.show()"
   ]
  },
  {
   "cell_type": "code",
   "execution_count": 106,
   "metadata": {},
   "outputs": [],
   "source": [
    "d = img.getdata()"
   ]
  },
  {
   "cell_type": "code",
   "execution_count": 107,
   "metadata": {},
   "outputs": [
    {
     "data": {
      "text/plain": [
       "<ImagingCore at 0x15a186c50>"
      ]
     },
     "execution_count": 107,
     "metadata": {},
     "output_type": "execute_result"
    }
   ],
   "source": []
  },
  {
   "cell_type": "code",
   "execution_count": 96,
   "metadata": {},
   "outputs": [],
   "source": [
    "!cp /tmp/SketchResCompRSRGB.mlmodel /Users/arthurtonelli/Downloads/SketchResCompRSRGB.mlmodel"
   ]
  },
  {
   "cell_type": "code",
   "execution_count": 113,
   "metadata": {},
   "outputs": [],
   "source": [
    "model_img_at = coremltools.models.MLModel('/Users/arthurtonelli/Downloads/SketchResImgAT.mlmodel')"
   ]
  },
  {
   "cell_type": "code",
   "execution_count": 114,
   "metadata": {},
   "outputs": [],
   "source": [
    "res_at = model_img_at.predict({'input_5': rose_bg})\n",
    "res_at['reshape_arthur'].show()"
   ]
  },
  {
   "cell_type": "code",
   "execution_count": null,
   "metadata": {},
   "outputs": [],
   "source": []
  },
  {
   "cell_type": "code",
   "execution_count": 115,
   "metadata": {},
   "outputs": [],
   "source": [
    "model_img = coremltools.models.MLModel('/Users/arthurtonelli/Downloads/SketchResImg.mlmodel')"
   ]
  },
  {
   "cell_type": "code",
   "execution_count": 116,
   "metadata": {},
   "outputs": [
    {
     "ename": "Exception",
     "evalue": "Unable to load CoreML.framework. Cannot make predictions.",
     "output_type": "error",
     "traceback": [
      "\u001b[0;31m---------------------------------------------------------------------------\u001b[0m",
      "\u001b[0;31mException\u001b[0m                                 Traceback (most recent call last)",
      "\u001b[0;32m<ipython-input-116-04e9cea43741>\u001b[0m in \u001b[0;36m<module>\u001b[0;34m\u001b[0m\n\u001b[0;32m----> 1\u001b[0;31m \u001b[0mres_img\u001b[0m \u001b[0;34m=\u001b[0m \u001b[0mmodel_img\u001b[0m\u001b[0;34m.\u001b[0m\u001b[0mpredict\u001b[0m\u001b[0;34m(\u001b[0m\u001b[0;34m{\u001b[0m\u001b[0;34m'input'\u001b[0m\u001b[0;34m:\u001b[0m \u001b[0mrose_bg\u001b[0m\u001b[0;34m}\u001b[0m\u001b[0;34m)\u001b[0m\u001b[0;34m\u001b[0m\u001b[0m\n\u001b[0m",
      "\u001b[0;32m~/.virtualenvs/coreml_fst/lib/python3.6/site-packages/coremltools/models/model.py\u001b[0m in \u001b[0;36mpredict\u001b[0;34m(self, data, useCPUOnly, **kwargs)\u001b[0m\n\u001b[1;32m    356\u001b[0m                 \u001b[0;32mraise\u001b[0m \u001b[0mException\u001b[0m\u001b[0;34m(\u001b[0m\u001b[0;34m'This model contains a custom neural network layer, so predict is not supported.'\u001b[0m\u001b[0;34m)\u001b[0m\u001b[0;34m\u001b[0m\u001b[0m\n\u001b[1;32m    357\u001b[0m             \u001b[0;32melse\u001b[0m\u001b[0;34m:\u001b[0m\u001b[0;34m\u001b[0m\u001b[0m\n\u001b[0;32m--> 358\u001b[0;31m                 \u001b[0;32mraise\u001b[0m \u001b[0mException\u001b[0m\u001b[0;34m(\u001b[0m\u001b[0;34m'Unable to load CoreML.framework. Cannot make predictions.'\u001b[0m\u001b[0;34m)\u001b[0m\u001b[0;34m\u001b[0m\u001b[0m\n\u001b[0m\u001b[1;32m    359\u001b[0m \u001b[0;34m\u001b[0m\u001b[0m\n\u001b[1;32m    360\u001b[0m     \u001b[0;32mdef\u001b[0m \u001b[0mvisualize_spec\u001b[0m\u001b[0;34m(\u001b[0m\u001b[0mself\u001b[0m\u001b[0;34m,\u001b[0m \u001b[0mport\u001b[0m\u001b[0;34m=\u001b[0m\u001b[0;32mNone\u001b[0m\u001b[0;34m,\u001b[0m \u001b[0minput_shape_dict\u001b[0m\u001b[0;34m=\u001b[0m\u001b[0;32mNone\u001b[0m\u001b[0;34m,\u001b[0m \u001b[0mtitle\u001b[0m\u001b[0;34m=\u001b[0m\u001b[0;34m'CoreML Graph Visualization'\u001b[0m\u001b[0;34m)\u001b[0m\u001b[0;34m:\u001b[0m\u001b[0;34m\u001b[0m\u001b[0m\n",
      "\u001b[0;31mException\u001b[0m: Unable to load CoreML.framework. Cannot make predictions."
     ]
    }
   ],
   "source": [
    "# res_img = model_img.predict({'input': rose_bg})"
   ]
  },
  {
   "cell_type": "code",
   "execution_count": null,
   "metadata": {},
   "outputs": [],
   "source": []
  }
 ],
 "metadata": {
  "kernelspec": {
   "display_name": "Python 3",
   "language": "python",
   "name": "python3"
  },
  "language_info": {
   "codemirror_mode": {
    "name": "ipython",
    "version": 3
   },
   "file_extension": ".py",
   "mimetype": "text/x-python",
   "name": "python",
   "nbconvert_exporter": "python",
   "pygments_lexer": "ipython3",
   "version": "3.6.2"
  }
 },
 "nbformat": 4,
 "nbformat_minor": 4
}
